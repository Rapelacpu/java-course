{
  "nbformat": 4,
  "nbformat_minor": 0,
  "metadata": {
    "colab": {
      "provenance": [],
      "toc_visible": true,
      "authorship_tag": "ABX9TyMwexjE5Xzq4wqgt11u5KOa",
      "include_colab_link": true
    },
    "kernelspec": {
      "name": "python3",
      "display_name": "Python 3"
    },
    "language_info": {
      "name": "python"
    }
  },
  "cells": [
    {
      "cell_type": "markdown",
      "metadata": {
        "id": "view-in-github",
        "colab_type": "text"
      },
      "source": [
        "<a href=\"https://colab.research.google.com/github/Rapelacpu/java-course/blob/master/rap.ipynb\" target=\"_parent\"><img src=\"https://colab.research.google.com/assets/colab-badge.svg\" alt=\"Open In Colab\"/></a>"
      ]
    },
    {
      "cell_type": "code",
      "execution_count": null,
      "metadata": {
        "colab": {
          "base_uri": "https://localhost:8080/"
        },
        "id": "w-ZoH3IP8zhW",
        "outputId": "482d8413-31b0-4083-c717-ef04dd196781"
      },
      "outputs": [
        {
          "output_type": "stream",
          "name": "stdout",
          "text": [
            "4\n"
          ]
        }
      ],
      "source": [
        "x=2\n",
        "y=x*x\n",
        "print(y)"
      ]
    },
    {
      "cell_type": "code",
      "source": [
        "a=2\n",
        "b=4\n",
        "c=2\n",
        "y=a+b+c\n",
        "print(y)"
      ],
      "metadata": {
        "colab": {
          "base_uri": "https://localhost:8080/"
        },
        "id": "-FylVGXM_PWf",
        "outputId": "e54986c2-75bc-4363-f589-8a32bd9b6706"
      },
      "execution_count": null,
      "outputs": [
        {
          "output_type": "stream",
          "name": "stdout",
          "text": [
            "8\n"
          ]
        }
      ]
    },
    {
      "cell_type": "code",
      "source": [
        "a= \"Rapela\"\n",
        "print (a)"
      ],
      "metadata": {
        "colab": {
          "base_uri": "https://localhost:8080/"
        },
        "id": "OmWC1PjCAOvx",
        "outputId": "8ceb72e2-d2eb-4540-8862-49473ea49e94"
      },
      "execution_count": null,
      "outputs": [
        {
          "output_type": "stream",
          "name": "stdout",
          "text": [
            "Rapela\n"
          ]
        }
      ]
    },
    {
      "cell_type": "code",
      "source": [
        "print(\"Rapela\")"
      ],
      "metadata": {
        "colab": {
          "base_uri": "https://localhost:8080/"
        },
        "id": "k6zYJvP1zBzV",
        "outputId": "a144c682-9270-45c6-dea9-aea51911482b"
      },
      "execution_count": null,
      "outputs": [
        {
          "output_type": "stream",
          "name": "stdout",
          "text": [
            "Rapela\n"
          ]
        }
      ]
    },
    {
      "cell_type": "code",
      "source": [
        "divide= 40/2\n",
        "print (divide)"
      ],
      "metadata": {
        "id": "adsZXWCkzKzG",
        "colab": {
          "base_uri": "https://localhost:8080/"
        },
        "outputId": "003d8b6e-ddc3-4b40-f42c-b955e61f44c0"
      },
      "execution_count": null,
      "outputs": [
        {
          "output_type": "stream",
          "name": "stdout",
          "text": [
            "20.0\n"
          ]
        }
      ]
    },
    {
      "cell_type": "code",
      "source": [
        "r= True\n",
        "s= False\n",
        "print (type(r))"
      ],
      "metadata": {
        "colab": {
          "base_uri": "https://localhost:8080/"
        },
        "id": "DELhvnBqWrbY",
        "outputId": "abb4755d-d9e1-4639-cb6b-b2053bfae0d3"
      },
      "execution_count": null,
      "outputs": [
        {
          "output_type": "stream",
          "name": "stdout",
          "text": [
            "<class 'bool'>\n"
          ]
        }
      ]
    },
    {
      "cell_type": "code",
      "source": [
        "print (type(s))"
      ],
      "metadata": {
        "colab": {
          "base_uri": "https://localhost:8080/"
        },
        "id": "gDjbUfhtXBvT",
        "outputId": "db6f6e19-279b-4aaf-fa3c-f1db66ec19f9"
      },
      "execution_count": null,
      "outputs": [
        {
          "output_type": "stream",
          "name": "stdout",
          "text": [
            "<class 'bool'>\n"
          ]
        }
      ]
    },
    {
      "cell_type": "code",
      "source": [
        "First= \"Hello\"\n",
        "Second =\" World\"\n",
        "Join= First + Second\n",
        "print (Join)"
      ],
      "metadata": {
        "colab": {
          "base_uri": "https://localhost:8080/"
        },
        "id": "244gsVGZXGxJ",
        "outputId": "16983379-47d8-4b19-aaff-aec1fb1b74f0"
      },
      "execution_count": null,
      "outputs": [
        {
          "output_type": "stream",
          "name": "stdout",
          "text": [
            "Hello World\n"
          ]
        }
      ]
    },
    {
      "cell_type": "code",
      "source": [
        "x=9\n",
        "y=3\n",
        "\n",
        "z=x/3\n",
        "print(\"value of z:\", z)"
      ],
      "metadata": {
        "colab": {
          "base_uri": "https://localhost:8080/"
        },
        "id": "O4VCcScCZyv3",
        "outputId": "d7220333-a227-4575-d99b-3683cc9d2205"
      },
      "execution_count": null,
      "outputs": [
        {
          "output_type": "stream",
          "name": "stdout",
          "text": [
            "value of z: 3.0\n"
          ]
        }
      ]
    },
    {
      "cell_type": "code",
      "source": [
        "x = 5\n",
        "y = 2\n",
        "\n",
        "if y <  6:\n",
        "  z = x/y\n",
        "  print (\"make sense\", z)\n",
        "  print(x)\n",
        "  print(y)\n",
        "  print(\"ok\")"
      ],
      "metadata": {
        "colab": {
          "base_uri": "https://localhost:8080/"
        },
        "id": "fB8xIXiCc0NT",
        "outputId": "cf5dca43-21b7-4193-d02b-635d47873e8b"
      },
      "execution_count": null,
      "outputs": [
        {
          "output_type": "stream",
          "name": "stdout",
          "text": [
            "make sense 2.5\n",
            "5\n",
            "2\n",
            "ok\n"
          ]
        }
      ]
    },
    {
      "cell_type": "code",
      "source": [
        "if 10 % 100 == 0:\n",
        "\n",
        "   print(\"yes\")\n",
        "\n",
        "else:\n",
        "\n",
        "   print(\"No\")"
      ],
      "metadata": {
        "colab": {
          "base_uri": "https://localhost:8080/"
        },
        "id": "z6YlfO75dTgY",
        "outputId": "a9a0a2dd-4f9d-4b16-ea0e-1fc98afa3f1f"
      },
      "execution_count": null,
      "outputs": [
        {
          "output_type": "stream",
          "name": "stdout",
          "text": [
            "No\n"
          ]
        }
      ]
    },
    {
      "cell_type": "code",
      "source": [
        "if 9 > 2:\n",
        "   print(\"1\")\n",
        "   if 9 > 3:\n",
        "    print(\"2\")\n",
        "    if 9 > 8:\n",
        "      print(\"3\")\n",
        "\n",
        "\n"
      ],
      "metadata": {
        "colab": {
          "base_uri": "https://localhost:8080/"
        },
        "id": "zBRMXZixehcF",
        "outputId": "902cc20c-a09b-4d71-e64a-24232a271e48"
      },
      "execution_count": null,
      "outputs": [
        {
          "output_type": "stream",
          "name": "stdout",
          "text": [
            "1\n",
            "2\n",
            "3\n"
          ]
        }
      ]
    },
    {
      "cell_type": "code",
      "source": [
        "y = 7\n",
        "x = -1\n",
        "\n",
        "if x > y:\n",
        "  print(\"Greater\")\n",
        "elif x < y:\n",
        "    print(\"Smaller\")\n",
        "elif x == y:\n",
        "      print(\"Smaller\")\n",
        "elif x < 0:\n",
        "        print(\"Negative\")"
      ],
      "metadata": {
        "colab": {
          "base_uri": "https://localhost:8080/"
        },
        "id": "_oYcaOhohQXA",
        "outputId": "2ca92ea9-1aeb-4758-e4a6-7e81f256dc0f"
      },
      "execution_count": null,
      "outputs": [
        {
          "output_type": "stream",
          "name": "stdout",
          "text": [
            "Smaller\n"
          ]
        }
      ]
    },
    {
      "cell_type": "code",
      "source": [
        "my_list = [ 1, 2, 3, 'Rapela', 'Silas', 'Omondi']\n",
        "for item in my_list:\n",
        "  print(item)"
      ],
      "metadata": {
        "colab": {
          "base_uri": "https://localhost:8080/"
        },
        "id": "Yvld_-JWBkcO",
        "outputId": "22ad1709-2996-4cd9-9f45-cf6c79903d4d"
      },
      "execution_count": 9,
      "outputs": [
        {
          "output_type": "stream",
          "name": "stdout",
          "text": [
            "1\n",
            "2\n",
            "3\n",
            "Rapela\n",
            "Silas\n",
            "Omondi\n"
          ]
        }
      ]
    },
    {
      "cell_type": "code",
      "source": [
        "for item in my_list:\n",
        "  if item == 'Rapela':\n",
        "    break\n",
        "    print(item)"
      ],
      "metadata": {
        "id": "nhrCJhXAEUzu"
      },
      "execution_count": 10,
      "outputs": []
    },
    {
      "cell_type": "code",
      "source": [
        "List_example = [1, 2, 3]\n",
        "List_example [2] = \"Rapela\"\n",
        "print(List_example)"
      ],
      "metadata": {
        "colab": {
          "base_uri": "https://localhost:8080/"
        },
        "id": "yU2SJQlbFan1",
        "outputId": "9dca9aef-9b18-412f-d381-25f27bbe50ea"
      },
      "execution_count": 14,
      "outputs": [
        {
          "output_type": "stream",
          "name": "stdout",
          "text": [
            "[1, 2, 'Rapela']\n"
          ]
        }
      ]
    },
    {
      "cell_type": "code",
      "source": [
        "x = 2\n",
        "y = 4.2\n",
        "z = \"Rapela\"\n",
        "f = False\n",
        "\n",
        "my_list = [x, y, z, f]\n",
        "print(my_list)"
      ],
      "metadata": {
        "colab": {
          "base_uri": "https://localhost:8080/"
        },
        "id": "aHUQgZBJHk9f",
        "outputId": "632e89f6-2018-4fb7-a64d-2b0df31112d6"
      },
      "execution_count": 16,
      "outputs": [
        {
          "output_type": "stream",
          "name": "stdout",
          "text": [
            "[2, 4.2, 'Rapela', False]\n"
          ]
        }
      ]
    },
    {
      "cell_type": "code",
      "source": [
        "print(type(my_list))"
      ],
      "metadata": {
        "colab": {
          "base_uri": "https://localhost:8080/"
        },
        "id": "KRIDvSVQJJ7U",
        "outputId": "61ef9726-02fc-45ec-c765-9d4b6779acad"
      },
      "execution_count": 17,
      "outputs": [
        {
          "output_type": "stream",
          "name": "stdout",
          "text": [
            "<class 'list'>\n"
          ]
        }
      ]
    },
    {
      "cell_type": "code",
      "source": [
        "tuple_one = (2, 1, 2  ,  3, 2,)\n",
        "return_func = tuple_one.count(2)\n",
        "print(return_func)\n"
      ],
      "metadata": {
        "colab": {
          "base_uri": "https://localhost:8080/"
        },
        "id": "rC6TQKSvKZPD",
        "outputId": "13d76877-60c8-439d-aaf2-c33fa41475ce"
      },
      "execution_count": 19,
      "outputs": [
        {
          "output_type": "stream",
          "name": "stdout",
          "text": [
            "3\n"
          ]
        }
      ]
    },
    {
      "cell_type": "code",
      "source": [
        "items_dict = { 'iPhone' : 2 , \"iPad\" :3, \"shoes\" , \"wallets\" }\n",
        "print(items_dict)\n",
        "print(type(items_dict))"
      ],
      "metadata": {
        "colab": {
          "base_uri": "https://localhost:8080/",
          "height": 140
        },
        "id": "ZQZbOj3phaOG",
        "outputId": "b71a8571-2f17-478f-cceb-02728e53f8c7"
      },
      "execution_count": 37,
      "outputs": [
        {
          "output_type": "error",
          "ename": "SyntaxError",
          "evalue": "':' expected after dictionary key (<ipython-input-37-104d8af72d68>, line 1)",
          "traceback": [
            "\u001b[0;36m  File \u001b[0;32m\"<ipython-input-37-104d8af72d68>\"\u001b[0;36m, line \u001b[0;32m1\u001b[0m\n\u001b[0;31m    items_dict = { 'iPhone' : 2 , \"iPad\" :3, \"shoes\" , \"wallets\" }\u001b[0m\n\u001b[0m                                                   ^\u001b[0m\n\u001b[0;31mSyntaxError\u001b[0m\u001b[0;31m:\u001b[0m ':' expected after dictionary key\n"
          ]
        }
      ]
    },
    {
      "cell_type": "code",
      "source": [
        "my_set = {1 , 5.2 , \"Rapela\"}\n",
        "print(my_set)"
      ],
      "metadata": {
        "colab": {
          "base_uri": "https://localhost:8080/"
        },
        "id": "AKqGTlzlm1Fq",
        "outputId": "e4f4479c-7175-4db8-dccc-b13466d7f7a0"
      },
      "execution_count": 39,
      "outputs": [
        {
          "output_type": "stream",
          "name": "stdout",
          "text": [
            "{1, 5.2, 'Rapela'}\n"
          ]
        }
      ]
    },
    {
      "cell_type": "code",
      "source": [
        "my_set = {1 , 1 , 2 , 3 , 1}\n",
        "print(my_set)"
      ],
      "metadata": {
        "colab": {
          "base_uri": "https://localhost:8080/"
        },
        "id": "bvuiSvdyuWbJ",
        "outputId": "bd80e036-9457-4c19-d974-f0a43f9f4b78"
      },
      "execution_count": 48,
      "outputs": [
        {
          "output_type": "stream",
          "name": "stdout",
          "text": [
            "{1, 2, 3}\n"
          ]
        }
      ]
    },
    {
      "cell_type": "code",
      "source": [
        "my_set.add(6)"
      ],
      "metadata": {
        "id": "PKNksVyXuj1L"
      },
      "execution_count": 49,
      "outputs": []
    },
    {
      "cell_type": "code",
      "source": [
        "print(my_set)"
      ],
      "metadata": {
        "colab": {
          "base_uri": "https://localhost:8080/"
        },
        "id": "E9cAX51Jv7Ma",
        "outputId": "4af7b98d-8868-4842-97d2-316abc878355"
      },
      "execution_count": 50,
      "outputs": [
        {
          "output_type": "stream",
          "name": "stdout",
          "text": [
            "{1, 2, 3, 6}\n"
          ]
        }
      ]
    },
    {
      "cell_type": "code",
      "source": [
        "def multiply(first_num , second_num=3):\n",
        "result = first_num * second_num\n",
        "return results"
      ],
      "metadata": {
        "colab": {
          "base_uri": "https://localhost:8080/",
          "height": 140
        },
        "id": "iitSazbCwAWw",
        "outputId": "8431cf59-a224-4f97-c071-225234f58789"
      },
      "execution_count": 51,
      "outputs": [
        {
          "output_type": "error",
          "ename": "IndentationError",
          "evalue": "expected an indented block after function definition on line 1 (<ipython-input-51-a7117f2ec6d9>, line 2)",
          "traceback": [
            "\u001b[0;36m  File \u001b[0;32m\"<ipython-input-51-a7117f2ec6d9>\"\u001b[0;36m, line \u001b[0;32m2\u001b[0m\n\u001b[0;31m    result = first_num * second_num\u001b[0m\n\u001b[0m    ^\u001b[0m\n\u001b[0;31mIndentationError\u001b[0m\u001b[0;31m:\u001b[0m expected an indented block after function definition on line 1\n"
          ]
        }
      ]
    },
    {
      "cell_type": "code",
      "source": [
        "res = (6,3)\n",
        "res=(6*3)\n",
        "print(res)"
      ],
      "metadata": {
        "colab": {
          "base_uri": "https://localhost:8080/"
        },
        "id": "cpTVmvCV5Xyf",
        "outputId": "0465148d-7e42-429f-880b-e1e36ee58caa"
      },
      "execution_count": 57,
      "outputs": [
        {
          "output_type": "stream",
          "name": "stdout",
          "text": [
            "18\n"
          ]
        }
      ]
    },
    {
      "cell_type": "code",
      "source": [
        "class phones:\n",
        "  def __init__ (self , year):\n",
        "  self.year = year\n",
        "  print(\"Hello\")"
      ],
      "metadata": {
        "colab": {
          "base_uri": "https://localhost:8080/",
          "height": 140
        },
        "id": "rVNjynpw5jAL",
        "outputId": "fc69f027-66d2-489b-f8ca-9582cb199a9d"
      },
      "execution_count": 64,
      "outputs": [
        {
          "output_type": "error",
          "ename": "IndentationError",
          "evalue": "expected an indented block after function definition on line 2 (<ipython-input-64-a1cd6e8bf7d9>, line 3)",
          "traceback": [
            "\u001b[0;36m  File \u001b[0;32m\"<ipython-input-64-a1cd6e8bf7d9>\"\u001b[0;36m, line \u001b[0;32m3\u001b[0m\n\u001b[0;31m    self.year = (\"year\")\u001b[0m\n\u001b[0m    ^\u001b[0m\n\u001b[0;31mIndentationError\u001b[0m\u001b[0;31m:\u001b[0m expected an indented block after function definition on line 2\n"
          ]
        }
      ]
    },
    {
      "cell_type": "code",
      "source": [
        "phones_2022 = phones(2022)\n",
        "phones_2022 = phones(2022)"
      ],
      "metadata": {
        "colab": {
          "base_uri": "https://localhost:8080/",
          "height": 175
        },
        "id": "H83yJ8Dn_Xsn",
        "outputId": "4a191742-ff15-4b5a-9a56-bbd0ec234a8c"
      },
      "execution_count": 61,
      "outputs": [
        {
          "output_type": "error",
          "ename": "NameError",
          "evalue": "name 'phones' is not defined",
          "traceback": [
            "\u001b[0;31m---------------------------------------------------------------------------\u001b[0m",
            "\u001b[0;31mNameError\u001b[0m                                 Traceback (most recent call last)",
            "\u001b[0;32m<ipython-input-61-346d337c2c4c>\u001b[0m in \u001b[0;36m<cell line: 1>\u001b[0;34m()\u001b[0m\n\u001b[0;32m----> 1\u001b[0;31m \u001b[0mphones\u001b[0m\u001b[0;34m(\u001b[0m\u001b[0;36m2022\u001b[0m\u001b[0;34m)\u001b[0m\u001b[0;34m\u001b[0m\u001b[0;34m\u001b[0m\u001b[0m\n\u001b[0m",
            "\u001b[0;31mNameError\u001b[0m: name 'phones' is not defined"
          ]
        }
      ]
    },
    {
      "cell_type": "code",
      "source": [],
      "metadata": {
        "id": "b7n1Tkui_7P3"
      },
      "execution_count": null,
      "outputs": []
    }
  ]
}